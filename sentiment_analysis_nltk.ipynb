{
 "cells": [
  {
   "cell_type": "markdown",
   "metadata": {},
   "source": []
  },
  {
   "cell_type": "code",
   "execution_count": 25,
   "metadata": {
    "ExecuteTime": {
     "end_time": "2018-06-13T06:48:39.845418Z",
     "start_time": "2018-06-13T06:48:39.840446Z"
    }
   },
   "outputs": [],
   "source": [
    "#Import library\n",
    "from nltk.sentiment.vader import SentimentIntensityAnalyzer\n"
   ]
  },
  {
   "cell_type": "code",
   "execution_count": 32,
   "metadata": {
    "ExecuteTime": {
     "end_time": "2018-06-13T06:57:37.956627Z",
     "start_time": "2018-06-13T06:57:37.895709Z"
    }
   },
   "outputs": [
    {
     "name": "stdout",
     "output_type": "stream",
     "text": [
      "Text  :Great location! Very clean and the staff was very friendly and helpful!.\n",
      "Score :{'neg': 0.0, 'neu': 0.446, 'pos': 0.554, 'compound': 0.9036}\n"
     ]
    }
   ],
   "source": [
    "analyser =  SentimentIntensityAnalyzer()\n",
    "\n",
    "def show_sentiment_scores(text):\n",
    "    score = analyser.polarity_scores(text)\n",
    "    print(\"Text  :{}\".format(text))\n",
    "    print(\"Score :{}\".format(score))\n",
    "    \n",
    "show_sentiment_scores(\"Great location! Very clean and the staff was very friendly and helpful!.\")\n"
   ]
  },
  {
   "cell_type": "code",
   "execution_count": 33,
   "metadata": {
    "ExecuteTime": {
     "end_time": "2018-06-13T06:57:41.759667Z",
     "start_time": "2018-06-13T06:57:41.748715Z"
    }
   },
   "outputs": [
    {
     "name": "stdout",
     "output_type": "stream",
     "text": [
      "Text  :I got a call from HR\n",
      "Score :{'neg': 0.0, 'neu': 1.0, 'pos': 0.0, 'compound': 0.0}\n",
      "Text  :I got a call from HR :)\n",
      "Score :{'neg': 0.0, 'neu': 0.571, 'pos': 0.429, 'compound': 0.4588}\n"
     ]
    }
   ],
   "source": [
    "# VADER is so powerful that it can recognize imoticons also.\n",
    "\n",
    "show_sentiment_scores(\"I got a call from HR\")\n",
    "show_sentiment_scores(\"I got a call from HR :)\")\n"
   ]
  },
  {
   "cell_type": "code",
   "execution_count": 35,
   "metadata": {
    "ExecuteTime": {
     "end_time": "2018-06-13T07:08:46.128671Z",
     "start_time": "2018-06-13T07:08:46.115946Z"
    }
   },
   "outputs": [
    {
     "name": "stdout",
     "output_type": "stream",
     "text": [
      "Text  :The room was good.\n",
      "Score :{'neg': 0.0, 'neu': 0.508, 'pos': 0.492, 'compound': 0.4404}\n",
      "Text  :The room was GOOD.\n",
      "Score :{'neg': 0.0, 'neu': 0.452, 'pos': 0.548, 'compound': 0.5622}\n"
     ]
    }
   ],
   "source": [
    "# one of another powerful feature of VADER is that it can recognize CAPITALISATION.\n",
    "# We can see that GOOD is more positive than good.\n",
    "\n",
    "show_sentiment_scores(\"The room was good.\")\n",
    "show_sentiment_scores(\"The room was GOOD.\")"
   ]
  },
  {
   "cell_type": "code",
   "execution_count": 36,
   "metadata": {
    "ExecuteTime": {
     "end_time": "2018-06-13T07:11:53.132288Z",
     "start_time": "2018-06-13T07:11:53.108020Z"
    }
   },
   "outputs": [
    {
     "name": "stdout",
     "output_type": "stream",
     "text": [
      "Text  :The room was GOOD.\n",
      "Score :{'neg': 0.0, 'neu': 0.452, 'pos': 0.548, 'compound': 0.5622}\n",
      "Text  :The room was GOOD!\n",
      "Score :{'neg': 0.0, 'neu': 0.433, 'pos': 0.567, 'compound': 0.6027}\n",
      "Text  :The room was GOOD!!\n",
      "Score :{'neg': 0.0, 'neu': 0.416, 'pos': 0.584, 'compound': 0.639}\n",
      "Text  :The room was GOOD!!!\n",
      "Score :{'neg': 0.0, 'neu': 0.4, 'pos': 0.6, 'compound': 0.6714}\n"
     ]
    }
   ],
   "source": [
    "# Another factor that VADER considers is exclamation marks. Intensity of GOOD! is more than GOOD. \n",
    "\n",
    "show_sentiment_scores(\"The room was GOOD.\")\n",
    "show_sentiment_scores(\"The room was GOOD!\")\n",
    "show_sentiment_scores(\"The room was GOOD!!\")\n",
    "show_sentiment_scores(\"The room was GOOD!!!\")"
   ]
  },
  {
   "cell_type": "code",
   "execution_count": 41,
   "metadata": {
    "ExecuteTime": {
     "end_time": "2018-06-13T07:20:17.218026Z",
     "start_time": "2018-06-13T07:20:17.205318Z"
    }
   },
   "outputs": [
    {
     "name": "stdout",
     "output_type": "stream",
     "text": [
      "Text  :The room is GOOD! the staff is bad.\n",
      "Score :{'neg': 0.261, 'neu': 0.447, 'pos': 0.292, 'compound': 0.1091}\n",
      "Text  :The room is GOOD! but the staff is bad.\n",
      "Score :{'neg': 0.351, 'neu': 0.488, 'pos': 0.161, 'compound': -0.5755}\n"
     ]
    }
   ],
   "source": [
    "# If a compound sentance is connected with BUT, VADER changes the intensity accordingly.\n",
    "\n",
    "show_sentiment_scores(\"The room is GOOD! the staff is bad.\")\n",
    "show_sentiment_scores(\"The room is GOOD! but the staff is bad.\")"
   ]
  },
  {
   "cell_type": "code",
   "execution_count": null,
   "metadata": {},
   "outputs": [],
   "source": []
  }
 ],
 "metadata": {
  "kernelspec": {
   "display_name": "Python 3",
   "language": "python",
   "name": "python3"
  },
  "language_info": {
   "codemirror_mode": {
    "name": "ipython",
    "version": 3
   },
   "file_extension": ".py",
   "mimetype": "text/x-python",
   "name": "python",
   "nbconvert_exporter": "python",
   "pygments_lexer": "ipython3",
   "version": "3.5.2"
  },
  "toc": {
   "base_numbering": 1,
   "nav_menu": {},
   "number_sections": true,
   "sideBar": true,
   "skip_h1_title": false,
   "title_cell": "Table of Contents",
   "title_sidebar": "Contents",
   "toc_cell": false,
   "toc_position": {},
   "toc_section_display": true,
   "toc_window_display": false
  }
 },
 "nbformat": 4,
 "nbformat_minor": 2
}
